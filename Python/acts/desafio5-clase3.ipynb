{
 "cells": [
  {
   "cell_type": "code",
   "execution_count": 9,
   "id": "9aed297d",
   "metadata": {},
   "outputs": [],
   "source": [
    "def encripto(cadena):\n",
    "    \n",
    "    #convierto la cadena en una lista de char(1)\n",
    "    #paso a str(hex) cada elem de la lista(2)\n",
    "    #paso a int cada elem de la lista(2.1)\n",
    "    #le sumo 1 a cada elem de la lista(3)\n",
    "    #paso a str(hex) a cada elem de la lista(4)\n",
    "    #paso a char a cada elem(4.1)\n",
    "    #concateno todos los elementos(5)\n",
    "    \n",
    "    cadena_p = [int(format(ord(i)))for i in cadena] #1 + #2 + #2.1\n",
    "    cadena_p = list(map(lambda x: x+1, cadena_p)) #3\n",
    "    return ''.join(chr(x) for x in cadena_p)#4 + #4.1 + #5\n",
    "    \n",
    "    #cadena_p = [chr(x) for x in cadena_p]#4\n",
    "    #cadena_cod = ''.join(cadena_p)#5\n",
    "    \n",
    "    #return cadena_cod\n",
    "    \n",
    "    "
   ]
  },
  {
   "cell_type": "code",
   "execution_count": 10,
   "id": "ee3485dc",
   "metadata": {},
   "outputs": [
    {
     "name": "stdout",
     "output_type": "stream",
     "text": [
      "Spdl3132\n"
     ]
    }
   ],
   "source": [
    "print(encripto(\"Rock2021\"))\n",
    "\n"
   ]
  },
  {
   "cell_type": "code",
   "execution_count": 2,
   "id": "de874633",
   "metadata": {},
   "outputs": [
    {
     "data": {
      "text/plain": [
       "'\\na = \"a\"\\nb = \"b\"\\na = format(ord(a))\\nprint(type(a))\\na = a+1\\nprint(a)\\nc = bin(a + b)\\nprint(c)\\n'"
      ]
     },
     "execution_count": 2,
     "metadata": {},
     "output_type": "execute_result"
    }
   ],
   "source": [
    "'''\n",
    "a = \"a\"\n",
    "b = \"b\"\n",
    "a = format(ord(a))\n",
    "print(type(a))\n",
    "a = a+1\n",
    "print(a)\n",
    "c = bin(a + b)\n",
    "print(c)\n",
    "'''"
   ]
  },
  {
   "cell_type": "code",
   "execution_count": 1,
   "id": "5cba3e87",
   "metadata": {},
   "outputs": [
    {
     "data": {
      "text/plain": [
       "'a = \"a\"\\na = format(ord(a))\\na = int(a)\\nprint(type(a))'"
      ]
     },
     "execution_count": 1,
     "metadata": {},
     "output_type": "execute_result"
    }
   ],
   "source": [
    "'''a = \"a\"\n",
    "a = format(ord(a))\n",
    "a = int(a)\n",
    "print(type(a))'''\n"
   ]
  },
  {
   "cell_type": "code",
   "execution_count": null,
   "id": "9ad8d62f",
   "metadata": {},
   "outputs": [],
   "source": []
  }
 ],
 "metadata": {
  "kernelspec": {
   "display_name": "Python 3 (ipykernel)",
   "language": "python",
   "name": "python3"
  },
  "language_info": {
   "codemirror_mode": {
    "name": "ipython",
    "version": 3
   },
   "file_extension": ".py",
   "mimetype": "text/x-python",
   "name": "python",
   "nbconvert_exporter": "python",
   "pygments_lexer": "ipython3",
   "version": "3.10.4"
  }
 },
 "nbformat": 4,
 "nbformat_minor": 5
}
