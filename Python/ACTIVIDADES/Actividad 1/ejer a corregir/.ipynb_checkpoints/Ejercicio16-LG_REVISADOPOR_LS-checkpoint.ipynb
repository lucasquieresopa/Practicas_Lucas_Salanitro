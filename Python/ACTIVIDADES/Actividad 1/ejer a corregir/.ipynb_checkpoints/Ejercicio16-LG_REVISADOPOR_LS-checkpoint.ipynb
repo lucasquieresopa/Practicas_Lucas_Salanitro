{
 "cells": [
  {
   "cell_type": "markdown",
   "id": "b015a19f",
   "metadata": {},
   "source": [
    "# Actividad 1 por Python plus\n"
   ]
  },
  {
   "cell_type": "markdown",
   "id": "b0d0ad1d",
   "metadata": {},
   "source": [
    "## Parte I: resolvé el siguiente desafío:"
   ]
  },
  {
   "cell_type": "markdown",
   "id": "10d1cd01",
   "metadata": {},
   "source": [
    "EJERCICIO 16: dado el archivo denominado [TOTAL_nuevo.csv](https://archivos.linti.unlp.edu.ar/index.php/s/7zTP1JtN2KKTqYu) que contiene la actividad realizada en las clases  de la materia a través de catedras.linti, se desea generar un archivo con aquellos usuarios que completaron los cuestionarios Evento: Intento de cuestionario visualizado o Intento enviado) desde una dirección de la Facultad. Se considera que esto es así, si la IP comienza con \"163.10.\"."
   ]
  },
  {
   "cell_type": "markdown",
   "id": "84bcd4b9",
   "metadata": {},
   "source": [
    "URL del cuaderno asignado: https://drive.google.com/file/d/1Hc00su0lzSChkIpNgDsFoKAVrmAe109m/view?usp=sharing"
   ]
  },
  {
   "cell_type": "code",
   "execution_count": 2,
   "id": "5021bb7c",
   "metadata": {},
   "outputs": [
    {
     "name": "stdout",
     "output_type": "stream",
     "text": [
      "d:\\Users\\Usuario\\Desktop\\FACU\\2do\\Python\\env\\Scripts\\ACTIVIDADES\\Actividad 1\\ejer a corregir\n",
      "d:\\Users\\Usuario\\Desktop\\FACU\\2do\\Python\\env\\Scripts\\ACTIVIDADES\\Actividad 1\\ejer a corregir\\TOTAL_nuevo.csv\n"
     ]
    }
   ],
   "source": [
    "#Solución\n",
    "import csv\n",
    "import os\n",
    "ruta_del_archivo = \"archivoCSV\"\n",
    "print(os.getcwd())\n",
    "archivo_csv = os.path.join(os.getcwd(),\"TOTAL_nuevo.csv\")\n",
    "print(archivo_csv)\n",
    "users_list = []\n",
    "with open(archivo_csv,encoding='utf-8')as data_base_users:\n",
    "    reader = csv.reader(data_base_users)\n",
    "    for line in reader:\n",
    "        if ((\"Intento enviado\" in line[3])or(\"Intento de cuestionario visualizado\" in line[3])) and (\"163.10.\" in line[5]):\n",
    "            users_list.append(line[1])\n",
    "archivo_users = os.path.join(os.getcwd(),\"Usuarios_requeridos.txt\")\n",
    "users_list = set(users_list)\n",
    "users = open(archivo_users,\"w\")\n",
    "users.write(\"-Usuarios requeridos-\"+ \"\\n\")\n",
    "for user in users_list:    \n",
    "    users.write(\"User:\"+user + \"\\n\")\n",
    "users.close()\n"
   ]
  },
  {
   "cell_type": "code",
   "execution_count": 11,
   "id": "9d346d3c",
   "metadata": {},
   "outputs": [],
   "source": [
    "#Puntos acumulados por parte de mi compañero/a\n",
    "puntos_parte_I = 0"
   ]
  },
  {
   "cell_type": "code",
   "execution_count": 12,
   "id": "018103c3",
   "metadata": {},
   "outputs": [],
   "source": [
    "#Puntos a sumar de la consigna 1:\n",
    "puntos_parte_I += 5"
   ]
  },
  {
   "cell_type": "code",
   "execution_count": 13,
   "id": "9b5d4c12",
   "metadata": {},
   "outputs": [],
   "source": [
    "#Puntos a sumar de la consigna 2:\n",
    "puntos_parte_I += 10"
   ]
  },
  {
   "cell_type": "code",
   "execution_count": 14,
   "id": "31500624",
   "metadata": {},
   "outputs": [],
   "source": [
    "#Puntos a sumar de la consigna 3:\n",
    "puntos_parte_I += 5"
   ]
  },
  {
   "cell_type": "code",
   "execution_count": 15,
   "id": "712cd6e6",
   "metadata": {},
   "outputs": [],
   "source": [
    "#Puntos a descontar de la consigna 4:\n",
    "puntos_parte_I -=5"
   ]
  },
  {
   "cell_type": "markdown",
   "id": "85aa06ff",
   "metadata": {},
   "source": [
    "Se considera como fallo en la consigna 4 el haber escrito la linea \"ruta_del_archivo = \"archivoCSV\"\" y no haberla utilizado, mas la ausencia de informacion de como se realiza la correcta apertura del archivo de datos en este programa específico. Se debió haber aclarado si el archivo de datos se ubica en una subcarpeta o en la misma que el programa."
   ]
  },
  {
   "cell_type": "markdown",
   "id": "a9cf6cb4",
   "metadata": {},
   "source": [
    "No fueron tomados como errores graves las lineas \"print(archivo_csv)\" y \"print(os.getcwd())\" , ni la ausencia de salteo del encabezado previo a la procesion de la informacion, puesto que no interfieren en el funcionamiento del algortimo solicitado."
   ]
  },
  {
   "cell_type": "code",
   "execution_count": 16,
   "id": "16e8f897",
   "metadata": {},
   "outputs": [
    {
     "name": "stdout",
     "output_type": "stream",
     "text": [
      "Puntos de la actividad 1 (Parte I): 15\n"
     ]
    }
   ],
   "source": [
    "print(f\"Puntos de la actividad 1 (Parte I): {puntos_parte_I if puntos_parte_I > 0 else 0}\")"
   ]
  },
  {
   "cell_type": "code",
   "execution_count": 3,
   "id": "3a7fb432",
   "metadata": {},
   "outputs": [],
   "source": [
    "#Solucion alternativa\n",
    "import csv\n",
    "import os\n",
    "\n",
    "archivo_datos = \"TOTAL_nuevo.csv\"\n",
    "#aclaracion: el archivo con la base de datos (TOTAL_nuevo.csv) debe estar en una subcarpeta \"files\"\n",
    "ruta_archivo = \"files\"\n",
    "\n",
    "with open (os.path.join(os.getcwd(), archivo_datos), encoding = 'utf8')as datos_moodle:\n",
    "    lector = csv.reader(datos_moodle)\n",
    "    encabezado, lector = next(lector), list(lector)\n",
    "    #nombre_usuarios es un conjunto con los nombres de aquellos usuarios que cumplen lo requerido\n",
    "    nombre_usuarios = set([x[1].replace(',','') for x in(filter(lambda x: (x[3] == \"Intento enviado\" or x[3] == \"Intento de cuestionario visualizado\") and (\"163.10.\" in x[5]), lector))])\n",
    "\n",
    "    \n",
    "archivo_usuarios = os.path.join(os.getcwd(),\"usuarios_requeridos.txt\")\n",
    "with open(archivo_usuarios, 'w') as usuarios_cumplen:\n",
    "    usuarios_cumplen.write(\"-Usuarios requeridos-\" + \"\\n\")\n",
    "    for usuario in nombre_usuarios:\n",
    "        usuarios_cumplen.write(f'Usuario: {usuario} \\n')"
   ]
  },
  {
   "cell_type": "code",
   "execution_count": null,
   "id": "08e9e758",
   "metadata": {},
   "outputs": [],
   "source": []
  }
 ],
 "metadata": {
  "kernelspec": {
   "display_name": "Python 3 (ipykernel)",
   "language": "python",
   "name": "python3"
  },
  "language_info": {
   "codemirror_mode": {
    "name": "ipython",
    "version": 3
   },
   "file_extension": ".py",
   "mimetype": "text/x-python",
   "name": "python",
   "nbconvert_exporter": "python",
   "pygments_lexer": "ipython3",
   "version": "3.10.4"
  }
 },
 "nbformat": 4,
 "nbformat_minor": 5
}
