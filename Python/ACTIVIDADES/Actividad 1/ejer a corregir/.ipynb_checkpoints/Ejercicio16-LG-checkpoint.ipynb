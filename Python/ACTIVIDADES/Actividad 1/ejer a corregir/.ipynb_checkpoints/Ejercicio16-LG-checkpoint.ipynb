{
 "cells": [
  {
   "cell_type": "markdown",
   "id": "b015a19f",
   "metadata": {},
   "source": [
    "# Actividad 1 por Python plus\n"
   ]
  },
  {
   "cell_type": "markdown",
   "id": "b0d0ad1d",
   "metadata": {},
   "source": [
    "## Parte I: resolvé el siguiente desafío:"
   ]
  },
  {
   "cell_type": "markdown",
   "id": "10d1cd01",
   "metadata": {},
   "source": [
    "EJERCICIO 16: dado el archivo denominado [TOTAL_nuevo.csv](https://archivos.linti.unlp.edu.ar/index.php/s/7zTP1JtN2KKTqYu) que contiene la actividad realizada en las clases  de la materia a través de catedras.linti, se desea generar un archivo con aquellos usuarios que completaron los cuestionarios Evento: Intento de cuestionario visualizado o Intento enviado) desde una dirección de la Facultad. Se considera que esto es así, si la IP comienza con \"163.10.\"."
   ]
  },
  {
   "cell_type": "code",
   "execution_count": 1,
   "id": "5021bb7c",
   "metadata": {},
   "outputs": [
    {
     "ename": "FileNotFoundError",
     "evalue": "[Errno 2] No such file or directory: 'd:\\\\Users\\\\Usuario\\\\Desktop\\\\FACU\\\\2do\\\\Python\\\\env\\\\Scripts\\\\ACTIVIDADES\\\\Actividad 1\\\\ejer a corregir\\\\files\\\\TOTAL_nuevo.csv'",
     "output_type": "error",
     "traceback": [
      "\u001b[1;31m---------------------------------------------------------------------------\u001b[0m",
      "\u001b[1;31mFileNotFoundError\u001b[0m                         Traceback (most recent call last)",
      "Input \u001b[1;32mIn [1]\u001b[0m, in \u001b[0;36m<cell line: 9>\u001b[1;34m()\u001b[0m\n\u001b[0;32m      6\u001b[0m \u001b[38;5;66;03m#aclaracion: el archivo con la base de datos (TOTAL_nuevo.csv) debe estar en una subcarpeta \"files\"\u001b[39;00m\n\u001b[0;32m      7\u001b[0m ruta_archivo \u001b[38;5;241m=\u001b[39m \u001b[38;5;124m\"\u001b[39m\u001b[38;5;124mfiles\u001b[39m\u001b[38;5;124m\"\u001b[39m\n\u001b[1;32m----> 9\u001b[0m \u001b[38;5;28;01mwith\u001b[39;00m \u001b[38;5;28;43mopen\u001b[39;49m\u001b[43m \u001b[49m\u001b[43m(\u001b[49m\u001b[43mos\u001b[49m\u001b[38;5;241;43m.\u001b[39;49m\u001b[43mpath\u001b[49m\u001b[38;5;241;43m.\u001b[39;49m\u001b[43mjoin\u001b[49m\u001b[43m(\u001b[49m\u001b[43mos\u001b[49m\u001b[38;5;241;43m.\u001b[39;49m\u001b[43mgetcwd\u001b[49m\u001b[43m(\u001b[49m\u001b[43m)\u001b[49m\u001b[43m,\u001b[49m\u001b[43m \u001b[49m\u001b[43mruta_archivo\u001b[49m\u001b[43m,\u001b[49m\u001b[43m \u001b[49m\u001b[43marchivo_datos\u001b[49m\u001b[43m)\u001b[49m\u001b[43m,\u001b[49m\u001b[43m \u001b[49m\u001b[43mencoding\u001b[49m\u001b[43m \u001b[49m\u001b[38;5;241;43m=\u001b[39;49m\u001b[43m \u001b[49m\u001b[38;5;124;43m'\u001b[39;49m\u001b[38;5;124;43mutf8\u001b[39;49m\u001b[38;5;124;43m'\u001b[39;49m\u001b[43m)\u001b[49m\u001b[38;5;28;01mas\u001b[39;00m base_de_datos:\n\u001b[0;32m     10\u001b[0m     lector \u001b[38;5;241m=\u001b[39m csv\u001b[38;5;241m.\u001b[39mreader(base_de_datos)\n\u001b[0;32m     11\u001b[0m     encabezado, lector \u001b[38;5;241m=\u001b[39m \u001b[38;5;28mnext\u001b[39m(lector), \u001b[38;5;28mlist\u001b[39m(lector)\n",
      "\u001b[1;31mFileNotFoundError\u001b[0m: [Errno 2] No such file or directory: 'd:\\\\Users\\\\Usuario\\\\Desktop\\\\FACU\\\\2do\\\\Python\\\\env\\\\Scripts\\\\ACTIVIDADES\\\\Actividad 1\\\\ejer a corregir\\\\files\\\\TOTAL_nuevo.csv'"
     ]
    }
   ],
   "source": [
    "#Solucion alternativa\n",
    "import csv\n",
    "import os\n",
    "\n",
    "archivo_datos = \"TOTAL_nuevo.csv\"\n",
    "#aclaracion: el archivo con la base de datos (TOTAL_nuevo.csv) debe estar en una subcarpeta \"files\"\n",
    "ruta_archivo = \"files\"\n",
    "\n",
    "with open (os.path.join(os.getcwd(), ruta_archivo, archivo_datos), encoding = 'utf8')as base_de_datos:\n",
    "    lector = csv.reader(base_de_datos)\n",
    "    encabezado, lector = next(lector), list(lector)\n",
    "    #nombre_usuarios es un conjunto con los nombres de aquellos usuarios que cumplen lo requerido\n",
    "    nombre_usuarios = set([x[1].replace(',','') for x in(filter(lambda x: (x[3] == \"Intento enviado\" or x[3] == \"Intento de cuestionario visualizado\") and (\"163.10.\" in x[5]), lector))])\n",
    "\n",
    "    \n",
    "archivo_usuarios = os.path.join(os.getcwd(),\"usuarios_requeridos.txt\")\n",
    "with open(archivo_usuarios, 'w') as usuarios_cumplen:\n",
    "    usuarios_cumplen.write(\"-Usuarios requeridos-\" + \"\\n\")\n",
    "    for usuario in nombre_usuarios:\n",
    "        usuarios_cumplen.write(f'Usuario: {usuario} \\n')"
   ]
  },
  {
   "cell_type": "code",
   "execution_count": null,
   "id": "3a7fb432",
   "metadata": {},
   "outputs": [],
   "source": []
  }
 ],
 "metadata": {
  "kernelspec": {
   "display_name": "Python 3 (ipykernel)",
   "language": "python",
   "name": "python3"
  },
  "language_info": {
   "codemirror_mode": {
    "name": "ipython",
    "version": 3
   },
   "file_extension": ".py",
   "mimetype": "text/x-python",
   "name": "python",
   "nbconvert_exporter": "python",
   "pygments_lexer": "ipython3",
   "version": "3.10.4"
  }
 },
 "nbformat": 4,
 "nbformat_minor": 5
}
