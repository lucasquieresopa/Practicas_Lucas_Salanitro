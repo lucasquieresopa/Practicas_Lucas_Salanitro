{
 "cells": [
  {
   "cell_type": "code",
   "execution_count": 2,
   "id": "c766dc04",
   "metadata": {},
   "outputs": [
    {
     "name": "stdout",
     "output_type": "stream",
     "text": [
      "11000\n",
      "*1000\n",
      "12110\n",
      "01*10\n"
     ]
    }
   ],
   "source": [
    "minas = [\n",
    "'-----',\n",
    "'----*',\n",
    "'*----',\n",
    "'---*-',\n",
    "]\n",
    "\n",
    "\n",
    "def comprobarMinas(minas,i,j,cant):\n",
    "    '''Comprueba si hay una mina ('*')en la posicion indicada'''\n",
    "    if minas[i][j] == '*':   \n",
    "        cant += 1\n",
    "    return cant\n",
    "\n",
    "minas_resuelto = []\n",
    "for i in range(4):\n",
    "\n",
    "    texto = ('')\n",
    "    \n",
    "    for j in range(5):\n",
    "    \n",
    "        if minas[i][j] == '-':\n",
    "            \n",
    "            cant_bombas = 0\n",
    "            \n",
    "            if i > 0 and j > 0: # -> arriba izq\n",
    "                cant_bombas = comprobarMinas(minas,i-1,j-1,cant_bombas)\n",
    "            if i < 3 and j > 0: # -> abajo izq\n",
    "                cant_bombas = comprobarMinas(minas,i+1,j-1,cant_bombas)\n",
    "            if i > 0 and j < 4: # -> arriba der\n",
    "                cant_bombas = comprobarMinas(minas,i-1,j+1,cant_bombas)\n",
    "            if i < 3 and j < 4: # -> abajo der\n",
    "                cant_bombas = comprobarMinas(minas,i+1,j+1,cant_bombas)\n",
    "            \n",
    "            if i > 0: # -> ver si arriba es *\n",
    "                cant_bombas = comprobarMinas(minas,i-1,j,cant_bombas)\n",
    "            if i < 3: #-> ver si abajo es *\n",
    "                cant_bombas = comprobarMinas(minas,i+1,j,cant_bombas)\n",
    "            if j > 0: #-> ver si izq es *\n",
    "                cant_bombas = comprobarMinas(minas,i,j-1,cant_bombas)\n",
    "            if j < 4: #-> ver si der es *\n",
    "                cant_bombas = comprobarMinas(minas,i,j+1,cant_bombas)\n",
    "                \n",
    "            texto = (f'{texto}{cant_bombas}')\n",
    "        else:\n",
    "            texto = (f'{texto}*')    \n",
    "    minas_resuelto.append(texto)\n",
    "\n",
    "print(minas_resuelto[0])\n",
    "print(minas_resuelto[1])\n",
    "print(minas_resuelto[2])\n",
    "print(minas_resuelto[3])"
   ]
  },
  {
   "cell_type": "code",
   "execution_count": null,
   "id": "0149fc1c",
   "metadata": {},
   "outputs": [],
   "source": []
  }
 ],
 "metadata": {
  "kernelspec": {
   "display_name": "Python 3 (ipykernel)",
   "language": "python",
   "name": "python3"
  },
  "language_info": {
   "codemirror_mode": {
    "name": "ipython",
    "version": 3
   },
   "file_extension": ".py",
   "mimetype": "text/x-python",
   "name": "python",
   "nbconvert_exporter": "python",
   "pygments_lexer": "ipython3",
   "version": "3.10.4"
  }
 },
 "nbformat": 4,
 "nbformat_minor": 5
}
