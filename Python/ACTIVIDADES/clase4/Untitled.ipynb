{
 "cells": [
  {
   "cell_type": "code",
   "execution_count": 55,
   "id": "1f0f1eb5",
   "metadata": {},
   "outputs": [],
   "source": [
    "import csv\n",
    "import os\n",
    "\n",
    "ruta = os.path.dirname(os.path.realpath(\".\"))\n",
    "ruta_arch = os.path.join(ruta, \"clase4\",\"netflix_titles.csv\")"
   ]
  },
  {
   "cell_type": "code",
   "execution_count": 56,
   "id": "f907b82a",
   "metadata": {},
   "outputs": [
    {
     "name": "stdout",
     "output_type": "stream",
     "text": [
      "['show_id', 'type', 'title', 'director', 'cast', 'country', 'date_added', 'release_year', 'rating', 'duration', 'listed_in', 'description']\n"
     ]
    }
   ],
   "source": [
    "archivo = open(ruta_arch, \"r\")\n",
    "csvreader = csv.reader(archivo, delimiter=',')\n",
    "\n",
    "encabezado = next(csvreader)\n",
    "print(encabezado)"
   ]
  },
  {
   "cell_type": "code",
   "execution_count": 59,
   "id": "e1c72f87",
   "metadata": {},
   "outputs": [
    {
     "name": "stdout",
     "output_type": "stream",
     "text": [
      "September 2, 2021\n",
      "September 2, 2021\n",
      "September 2, 2021\n",
      "September 1, 2021\n",
      "September 1, 2021\n",
      "September 1, 2021\n",
      "September 1, 2021\n",
      "September 1, 2021\n",
      "September 1, 2021\n",
      "September 1, 2021\n",
      "September 1, 2021\n",
      "September 1, 2021\n",
      "September 1, 2021\n",
      "September 1, 2021\n",
      "September 1, 2021\n",
      "September 1, 2021\n",
      "September 1, 2021\n",
      "September 1, 2021\n",
      "September 1, 2021\n",
      "September 1, 2021\n",
      "September 1, 2021\n",
      "September 1, 2021\n",
      "September 1, 2021\n",
      "September 1, 2021\n",
      "September 1, 2021\n",
      "September 1, 2021\n",
      "September 1, 2021\n",
      "September 1, 2021\n",
      "September 1, 2021\n",
      "September 1, 2021\n",
      "September 1, 2021\n",
      "September 1, 2021\n",
      "September 1, 2021\n",
      "September 1, 2021\n",
      "September 1, 2021\n",
      "September 1, 2021\n",
      "September 1, 2021\n",
      "September 1, 2021\n",
      "September 1, 2021\n",
      "September 1, 2021\n",
      "September 1, 2021\n",
      "September 1, 2021\n",
      "September 1, 2021\n",
      "September 1, 2021\n",
      "September 1, 2021\n",
      "September 1, 2021\n",
      "September 1, 2021\n",
      "September 1, 2021\n",
      "September 1, 2021\n",
      "September 1, 2021\n",
      "September 1, 2021\n",
      "September 1, 2021\n",
      "September 1, 2021\n",
      "September 1, 2021\n",
      "September 1, 2021\n",
      "September 1, 2021\n",
      "September 1, 2021\n"
     ]
    },
    {
     "ename": "UnicodeDecodeError",
     "evalue": "'charmap' codec can't decode byte 0x81 in position 4530: character maps to <undefined>",
     "output_type": "error",
     "traceback": [
      "\u001b[1;31m---------------------------------------------------------------------------\u001b[0m",
      "\u001b[1;31mUnicodeDecodeError\u001b[0m                        Traceback (most recent call last)",
      "Input \u001b[1;32mIn [59]\u001b[0m, in \u001b[0;36m<cell line: 1>\u001b[1;34m()\u001b[0m\n\u001b[1;32m----> 1\u001b[0m \u001b[38;5;28;01mfor\u001b[39;00m linea \u001b[38;5;129;01min\u001b[39;00m csvreader:\n\u001b[0;32m      2\u001b[0m     \u001b[38;5;28mprint\u001b[39m(linea[\u001b[38;5;241m6\u001b[39m])\n",
      "File \u001b[1;32m~\\AppData\\Local\\Programs\\Python\\Python310\\lib\\encodings\\cp1252.py:23\u001b[0m, in \u001b[0;36mIncrementalDecoder.decode\u001b[1;34m(self, input, final)\u001b[0m\n\u001b[0;32m     22\u001b[0m \u001b[38;5;28;01mdef\u001b[39;00m \u001b[38;5;21mdecode\u001b[39m(\u001b[38;5;28mself\u001b[39m, \u001b[38;5;28minput\u001b[39m, final\u001b[38;5;241m=\u001b[39m\u001b[38;5;28;01mFalse\u001b[39;00m):\n\u001b[1;32m---> 23\u001b[0m     \u001b[38;5;28;01mreturn\u001b[39;00m \u001b[43mcodecs\u001b[49m\u001b[38;5;241;43m.\u001b[39;49m\u001b[43mcharmap_decode\u001b[49m\u001b[43m(\u001b[49m\u001b[38;5;28;43minput\u001b[39;49m\u001b[43m,\u001b[49m\u001b[38;5;28;43mself\u001b[39;49m\u001b[38;5;241;43m.\u001b[39;49m\u001b[43merrors\u001b[49m\u001b[43m,\u001b[49m\u001b[43mdecoding_table\u001b[49m\u001b[43m)\u001b[49m[\u001b[38;5;241m0\u001b[39m]\n",
      "\u001b[1;31mUnicodeDecodeError\u001b[0m: 'charmap' codec can't decode byte 0x81 in position 4530: character maps to <undefined>"
     ]
    }
   ],
   "source": [
    "for linea in csvreader:\n",
    "    print(linea[6])"
   ]
  },
  {
   "cell_type": "code",
   "execution_count": 58,
   "id": "e0270d20",
   "metadata": {},
   "outputs": [
    {
     "ename": "IndexError",
     "evalue": "list index out of range",
     "output_type": "error",
     "traceback": [
      "\u001b[1;31m---------------------------------------------------------------------------\u001b[0m",
      "\u001b[1;31mIndexError\u001b[0m                                Traceback (most recent call last)",
      "Input \u001b[1;32mIn [58]\u001b[0m, in \u001b[0;36m<cell line: 2>\u001b[1;34m()\u001b[0m\n\u001b[0;32m      1\u001b[0m peliculas2021 \u001b[38;5;241m=\u001b[39m []\n\u001b[0;32m      2\u001b[0m \u001b[38;5;28;01mfor\u001b[39;00m linea \u001b[38;5;129;01min\u001b[39;00m csvreader:\n\u001b[1;32m----> 3\u001b[0m     \u001b[38;5;28;01mif\u001b[39;00m \u001b[43mlinea\u001b[49m\u001b[43m[\u001b[49m\u001b[38;5;241;43m6\u001b[39;49m\u001b[43m]\u001b[49m \u001b[38;5;241m==\u001b[39m \u001b[38;5;124m'\u001b[39m\u001b[38;5;124m2021\u001b[39m\u001b[38;5;124m'\u001b[39m:\n\u001b[0;32m      4\u001b[0m         peliculas2021\u001b[38;5;241m.\u001b[39mappend(linea[\u001b[38;5;241m6\u001b[39m])\n",
      "\u001b[1;31mIndexError\u001b[0m: list index out of range"
     ]
    }
   ],
   "source": [
    "peliculas2021 = []\n",
    "for linea in csvreader:\n",
    "    if linea[6] == '2021':\n",
    "        peliculas2021.append(linea[6])\n",
    "    "
   ]
  },
  {
   "cell_type": "code",
   "execution_count": null,
   "id": "fbfb6284",
   "metadata": {},
   "outputs": [],
   "source": []
  },
  {
   "cell_type": "code",
   "execution_count": null,
   "id": "25fec36b",
   "metadata": {},
   "outputs": [],
   "source": [
    "archivo.close()"
   ]
  }
 ],
 "metadata": {
  "kernelspec": {
   "display_name": "Python 3 (ipykernel)",
   "language": "python",
   "name": "python3"
  },
  "language_info": {
   "codemirror_mode": {
    "name": "ipython",
    "version": 3
   },
   "file_extension": ".py",
   "mimetype": "text/x-python",
   "name": "python",
   "nbconvert_exporter": "python",
   "pygments_lexer": "ipython3",
   "version": "3.10.4"
  }
 },
 "nbformat": 4,
 "nbformat_minor": 5
}
