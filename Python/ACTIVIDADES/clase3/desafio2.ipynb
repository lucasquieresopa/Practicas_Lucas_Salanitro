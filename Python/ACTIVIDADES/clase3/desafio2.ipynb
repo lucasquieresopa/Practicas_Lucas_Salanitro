{
 "cells": [
  {
   "cell_type": "code",
   "execution_count": 2,
   "id": "df5fc6f9",
   "metadata": {},
   "outputs": [
    {
     "name": "stdout",
     "output_type": "stream",
     "text": [
      "Invoco a imprimo_elementos3 con tabla_numeros como parámetro\n",
      "uno = 1\n",
      "dos = 2\n",
      "tres = 3\n",
      "cuatro = 4\n",
      "--------------------\n",
      "Invoco a imprimo_elementos3 con los parámetros nombrados\n",
      "uno = 1\n",
      "dos = 2\n",
      "tres = 3\n",
      "cuatro = 4\n",
      "--------------------\n",
      "Invoco a imprimo_elementos1 con parámetros nombrados\n",
      "I, II\n",
      "--------------------\n",
      "Invoco a imprimo_elementos1 con parámetros simples\n",
      "I, II\n",
      "--------------------\n",
      "Invoco a imprimo_elementos2 con parámetros simples\n",
      "1\n",
      "2\n",
      "3\n",
      "4\n"
     ]
    }
   ],
   "source": [
    "def imprimo_elementos1(uno, dos, tres, cuatro):\n",
    "    \"\"\"Imprimo los valores de los dos primeros parámetros\"\"\"\n",
    "    print( f\"{uno}, {dos}\")\n",
    "\n",
    "\n",
    "def imprimo_elementos2(*argumentos):\n",
    "    \"\"\"Imprimo los valores de los argumentos\"\"\"\n",
    "    for valor in argumentos:\n",
    "        print( valor)\n",
    "\n",
    "\n",
    "def imprimo_elementos3(**argumentos):\n",
    "    \"\"\"Imprimo una tabla nombre-valor\"\"\"\n",
    "    for nombre, valor in argumentos.items():\n",
    "        print( f\"{nombre} = {valor}\")\n",
    "\n",
    "\n",
    "\n",
    "tabla_numeros = { \"uno\": 1, \"dos\": 2, \"tres\":3, \"cuatro\": 4}\n",
    "print(\"Invoco a imprimo_elementos3 con tabla_numeros como parámetro\")\n",
    "imprimo_elementos3(**tabla_numeros)\n",
    "\n",
    "print(\"-\" * 20)\n",
    "\n",
    "print(\"Invoco a imprimo_elementos3 con los parámetros nombrados\")\n",
    "imprimo_elementos3(uno =1, dos = 2, tres = 3, cuatro = 4)\n",
    "\n",
    "print(\"-\" * 20)\n",
    "\n",
    "print(\"Invoco a imprimo_elementos1 con parámetros nombrados\")\n",
    "imprimo_elementos1(uno =\"I\", dos = \"II\", tres = \"III\", cuatro = \"IV\")\n",
    "\n",
    "print(\"-\" * 20)\n",
    "\n",
    "print(\"Invoco a imprimo_elementos1 con parámetros simples\")\n",
    "imprimo_elementos1(\"I\", \"II\", \"III\", \"IV\")\n",
    "\n",
    "print(\"-\" * 20)\n",
    "\n",
    "print(\"Invoco a imprimo_elementos2 con parámetros simples\")\n",
    "imprimo_elementos2(1,2,3,4)"
   ]
  },
  {
   "cell_type": "code",
   "execution_count": 3,
   "id": "ecc88d42",
   "metadata": {},
   "outputs": [
    {
     "name": "stdout",
     "output_type": "stream",
     "text": [
      "<class 'dict'>\n"
     ]
    }
   ],
   "source": [
    "print(type(tabla_numeros))"
   ]
  },
  {
   "cell_type": "code",
   "execution_count": 5,
   "id": "82fd01e7",
   "metadata": {},
   "outputs": [
    {
     "name": "stdout",
     "output_type": "stream",
     "text": [
      "3\n"
     ]
    }
   ],
   "source": [
    "def imprimo_datos(par1, par2, par3):\n",
    "    print(par3)\n",
    "    \n",
    "lista = [1, 2, 3]\n",
    "imprimo_datos(*lista)"
   ]
  },
  {
   "cell_type": "code",
   "execution_count": 7,
   "id": "c6a98b13",
   "metadata": {},
   "outputs": [
    {
     "name": "stdout",
     "output_type": "stream",
     "text": [
      "<class 'int'>\n",
      "Messi 12345\n"
     ]
    }
   ],
   "source": [
    "def imprimo_contacto(nombre, celu):\n",
    "    print(type(celu))\n",
    "    print(nombre, celu)\n",
    "contacto = {\"nombre\": \"Messi\", \"celu\": 12345}\n",
    "imprimo_contacto(**contacto)\n"
   ]
  },
  {
   "cell_type": "code",
   "execution_count": null,
   "id": "7d3a3648",
   "metadata": {},
   "outputs": [],
   "source": []
  }
 ],
 "metadata": {
  "kernelspec": {
   "display_name": "Python 3 (ipykernel)",
   "language": "python",
   "name": "python3"
  },
  "language_info": {
   "codemirror_mode": {
    "name": "ipython",
    "version": 3
   },
   "file_extension": ".py",
   "mimetype": "text/x-python",
   "name": "python",
   "nbconvert_exporter": "python",
   "pygments_lexer": "ipython3",
   "version": "3.10.4"
  }
 },
 "nbformat": 4,
 "nbformat_minor": 5
}
