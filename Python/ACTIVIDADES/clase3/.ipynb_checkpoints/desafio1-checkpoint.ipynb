{
 "cells": [
  {
   "cell_type": "code",
   "execution_count": 3,
   "id": "8b68e05c",
   "metadata": {},
   "outputs": [
    {
     "name": "stdout",
     "output_type": "stream",
     "text": [
      "6 es de tipo <class 'int'>\n",
      "hola es de tipo <class 'str'>\n",
      "2.6 es de tipo <class 'float'>\n",
      "{'peru': 66} es de tipo <class 'dict'>\n",
      "chau es de tipo <class 'str'>\n",
      "[7, 9] es de tipo <class 'list'>\n"
     ]
    }
   ],
   "source": [
    "def imprimir(*lista):\n",
    "\n",
    "    for i in lista:\n",
    "        print(f'{i} es de tipo {type(i)}')\n",
    "    \n",
    "\n",
    "imprimir(6)\n",
    "imprimir(\"hola\")\n",
    "imprimir(2.6)\n",
    "imprimir({\"peru\":66}, \"chau\", [7, 9])\n"
   ]
  },
  {
   "cell_type": "code",
   "execution_count": null,
   "id": "908aa697",
   "metadata": {},
   "outputs": [],
   "source": []
  }
 ],
 "metadata": {
  "kernelspec": {
   "display_name": "Python 3 (ipykernel)",
   "language": "python",
   "name": "python3"
  },
  "language_info": {
   "codemirror_mode": {
    "name": "ipython",
    "version": 3
   },
   "file_extension": ".py",
   "mimetype": "text/x-python",
   "name": "python",
   "nbconvert_exporter": "python",
   "pygments_lexer": "ipython3",
   "version": "3.10.4"
  }
 },
 "nbformat": 4,
 "nbformat_minor": 5
}
