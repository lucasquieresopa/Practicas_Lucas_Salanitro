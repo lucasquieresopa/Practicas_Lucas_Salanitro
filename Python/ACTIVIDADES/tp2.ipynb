{
 "cells": [
  {
   "cell_type": "markdown",
   "id": "152a5b0e",
   "metadata": {},
   "source": []
  },
  {
   "cell_type": "code",
   "execution_count": 143,
   "id": "cb87657a",
   "metadata": {},
   "outputs": [],
   "source": [
    "def cargoLista(lista):\n",
    "    \"\"\"Procedimiento que recibe lista generica y acomoda su contenido quitandole caracteres que estorban. Devuelve una lista nueva\"\"\"\n",
    "    lista_nueva = []\n",
    "    for n in range(len(lista)):\n",
    "        lista_nueva.append(lista[n].replace(\"'\",'').replace(\"\\n\",'').replace(\",\",'').strip()) \n",
    "    \n",
    "    return lista_nueva"
   ]
  },
  {
   "cell_type": "markdown",
   "id": "30878ca2",
   "metadata": {},
   "source": [
    "Programa princial\n",
    "\n",
    "Carga los tres archivos de texto a traves de la funcion cargoLista([]) y las asigna a variables de lista. Ademas convierte las listas eval1 y eval2 de listas de Strings a listas de enteros."
   ]
  },
  {
   "cell_type": "code",
   "execution_count": 207,
   "id": "0bc60b51",
   "metadata": {},
   "outputs": [],
   "source": [
    "lista_nombres1_txt = list(open('nombres_1.txt', 'r', encoding='utf8'))\n",
    "lista_eval2_txt = list(open('eval2.txt', 'r', encoding='utf8'))\n",
    "lista_eval1_txt = list(open('eval1.txt', 'r', encoding='utf8'))\n",
    "\n",
    "nombres = cargoLista(lista_nombres1_txt)\n",
    "eval1 = cargoLista(lista_eval1_txt)\n",
    "eval1 = [int(x) for x in eval1]\n",
    "\n",
    "eval2 = cargoLista(lista_eval2_txt)\n",
    "eval2 = [int(x) for x in eval2]\n",
    "\n",
    "cant_estudiantes = len(nombres)"
   ]
  },
  {
   "cell_type": "markdown",
   "id": "a0e22dd9",
   "metadata": {},
   "source": [
    "Compacta las listas nombres, eval1 y eval2 en un 'zip' y luego convierte en lista de tuplas, cada tupla con dos elementos. El primer elemento es el nombre y el segundo la suma de las notas correspodientes al alumno provenientes de eval1 y eval2"
   ]
  },
  {
   "cell_type": "code",
   "execution_count": 221,
   "id": "3ec480e5",
   "metadata": {},
   "outputs": [],
   "source": [
    "notas_estudiantes = [x + y for (x, y) in zip(eval1, eval2)]\n",
    "info_estudiantes_zip = zip(nombres, notas_estudiantes)\n",
    "info_estudiantes = list(info_estudiantes_zip)"
   ]
  },
  {
   "cell_type": "markdown",
   "id": "ed91ad25",
   "metadata": {},
   "source": [
    "Calcula el promedio de notas de estudiantes a traves de la previamente instanciada lista de notas."
   ]
  },
  {
   "cell_type": "code",
   "execution_count": 222,
   "id": "3c74053c",
   "metadata": {},
   "outputs": [],
   "source": [
    "import functools\n",
    "\n",
    "promedio = int((reduce((lambda x, y: x + y), notas_estudiantes))/cant_estudiantes)\n"
   ]
  },
  {
   "cell_type": "markdown",
   "id": "4eed7653",
   "metadata": {},
   "source": [
    "Compara cada suma de notas de cada estudiante almacenado en la lista con el promedio, y si es menor lo imprime"
   ]
  },
  {
   "cell_type": "code",
   "execution_count": 227,
   "id": "eea7c1e9",
   "metadata": {},
   "outputs": [
    {
     "name": "stdout",
     "output_type": "stream",
     "text": [
      "Alumnos con suma de notas de evaulaciones menor al promedio: \n",
      "('CESAR', 78)\n",
      "('Diego', 33)\n",
      "('Dolores', 53)\n",
      "('DYLAN', 74)\n",
      "('ELIANA', 13)\n",
      "('Emanuel', 48)\n",
      "('GONZALO', 76)\n",
      "('Gregorio', 90)\n",
      "('Ignacio', 21)\n",
      "('Jonathan', 62)\n",
      "('Jorge', 79)\n",
      "('JUAN', 68)\n",
      "('Julian', 87)\n",
      "('Leonel', 55)\n",
      "('Nicolás', 65)\n",
      "('NICOLÁS', 22)\n",
      "('Priscila', 24)\n",
      "('Yanina', 84)\n"
     ]
    }
   ],
   "source": [
    "print('Alumnos con suma de notas de evaulaciones menor al promedio: ')\n",
    "for i in range(cant_estudiantes):\n",
    "    if info_estudiantes[i][1] < promedio:\n",
    "        print(info_estudiantes[i])"
   ]
  },
  {
   "cell_type": "code",
   "execution_count": null,
   "id": "da245860",
   "metadata": {},
   "outputs": [],
   "source": []
  }
 ],
 "metadata": {
  "kernelspec": {
   "display_name": "Python 3 (ipykernel)",
   "language": "python",
   "name": "python3"
  },
  "language_info": {
   "codemirror_mode": {
    "name": "ipython",
    "version": 3
   },
   "file_extension": ".py",
   "mimetype": "text/x-python",
   "name": "python",
   "nbconvert_exporter": "python",
   "pygments_lexer": "ipython3",
   "version": "3.10.4"
  }
 },
 "nbformat": 4,
 "nbformat_minor": 5
}
