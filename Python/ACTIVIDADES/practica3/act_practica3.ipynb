{
 "cells": [
  {
   "cell_type": "code",
   "execution_count": null,
   "id": "7bd32c95",
   "metadata": {},
   "outputs": [
    {
     "name": "stdout",
     "output_type": "stream",
     "text": [
      "Ingrese un show a buscar: Jeans\n",
      "Ingrese un pais para saber si forma parte del showIndia\n",
      "[['s25', 'Movie', 'Jeans', 'S. Shankar', 'Prashanth, Aishwarya Rai Bachchan, Sri Lakshmi, Nassar', 'India', 'September 21, 2021', '1998', 'TV-14', '166 min', 'Comedies, International Movies, Romantic Movies', 'When the father of the man she loves insists that his twin sons marry twin sisters, a woman creates an alter ego that might be a bit too convincing.']]\n",
      "Jeans, es titulo de India\n",
      "['Algeria', 'Argentina', 'Australia', 'Belgium', 'Brazil', 'Bulgaria', 'Burkina Faso', 'Canada', 'China', 'Colombia', 'Czech Republic', 'Denmark', 'Egypt', 'Ethiopia', 'Finland', 'France', 'Germany', 'Ghana', 'Greece', 'Hong Kong', 'Hungary', 'Iceland', 'India', 'Indonesia', 'Ireland', 'Israel', 'Italy', 'Japan', 'Jordan', 'Kuwait', 'Lebanon', 'Malaysia', 'Mexico', 'Nepal', 'Netherlands', 'New Zealand', 'Nigeria', 'Philippines', 'Poland', 'Romania', 'Russia', 'Saudi Arabia', 'Singapore', 'South Africa', 'South Korea', 'Spain', 'Sweden', 'Switzerland', 'Syria', 'Taiwan', 'Thailand', 'Turkey', 'United Arab Emirates', 'United Kingdom', 'United States', 'Venezuela', 'Vietnam']\n"
     ]
    }
   ],
   "source": [
    "import os\n",
    "import csv\n",
    "\n",
    "def listar_paises(titulos):\n",
    "    \"Devuleve una lista con los paises sin repeticiones\"\n",
    "\n",
    "    lista_paises = []\n",
    "    for linea in titulos:\n",
    "        for pais in linea[5].split(','):\n",
    "            if(pais != ''):\n",
    "                lista_paises.append(pais.strip())\n",
    "              \n",
    "    return set(lista_paises)\n",
    " \n",
    "def pais_es_parte(show, pais, titulos):\n",
    "    \"\"\n",
    "    titulos_filtrados= list(filter(lambda linea: linea[2] == show, titulos))\n",
    "    print(titulos_filtrados)\n",
    "    for titulo in titulos_filtrados:\n",
    "        paises = titulo[5].split(',')\n",
    "    for titulo in titulos_filtrados:\n",
    "        if pais in paises:\n",
    "            print(f\"{show}, es titulo de {pais}\") \n",
    "    \n",
    "                \n",
    "    \n",
    "    \n",
    "\n",
    "def listarShows(linea, year):\n",
    "    \"\"\n",
    "    if int(linea[7]) == year:\n",
    "        print(linea[2])\n",
    "\n",
    "archivo_titulosnfx = \"netflix_titles.csv\"\n",
    "carpeta_archivos = \"files\"\n",
    "\n",
    "# os.path.join(os.path.dirname(__file__), carpeta_archivos)\n",
    "ruta_archivos = os.path.join(os.getcwd(), carpeta_archivos)\n",
    "\n",
    "\n",
    "with open(os.path.join(carpeta_archivos, archivo_titulosnfx), encoding= 'utf8') as titulosnfx:\n",
    "    \n",
    "    reader = csv.reader(titulosnfx, delimiter = ',')\n",
    "    encabezado = next(reader)\n",
    "    titulos = list(reader)\n",
    "\n",
    "    \n",
    "    lista_paises = listar_paises(titulos) #1.1\n",
    "\n",
    "    show = input(\"Ingrese un show a buscar: \")\n",
    "    pais = input(\"Ingrese un pais para saber si forma parte del show\")\n",
    "    pais_es_parte(show,pais,titulos) #1.2, no funciona\n",
    "    \n",
    "    print(sorted(lista_paises)) #2\n",
    "    \n",
    "    year = int(input(\"Ingrese un año por favor: \")) #3\n",
    "    for linea in titulos:\n",
    "        listarShows(linea,year)\n",
    "    \n",
    "    \n",
    "    \n",
    "    "
   ]
  },
  {
   "cell_type": "code",
   "execution_count": null,
   "id": "2eda237a",
   "metadata": {},
   "outputs": [],
   "source": []
  },
  {
   "cell_type": "code",
   "execution_count": null,
   "id": "5484b5cf",
   "metadata": {},
   "outputs": [],
   "source": []
  }
 ],
 "metadata": {
  "kernelspec": {
   "display_name": "Python 3 (ipykernel)",
   "language": "python",
   "name": "python3"
  },
  "language_info": {
   "codemirror_mode": {
    "name": "ipython",
    "version": 3
   },
   "file_extension": ".py",
   "mimetype": "text/x-python",
   "name": "python",
   "nbconvert_exporter": "python",
   "pygments_lexer": "ipython3",
   "version": "3.10.4"
  }
 },
 "nbformat": 4,
 "nbformat_minor": 5
}
