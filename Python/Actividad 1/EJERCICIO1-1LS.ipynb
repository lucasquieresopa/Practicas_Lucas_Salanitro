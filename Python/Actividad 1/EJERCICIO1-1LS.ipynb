{
 "cells": [
  {
   "cell_type": "markdown",
   "id": "b015a19f",
   "metadata": {},
   "source": [
    "# Actividad 1 por Python plus\n"
   ]
  },
  {
   "cell_type": "markdown",
   "id": "b0d0ad1d",
   "metadata": {},
   "source": [
    "## Parte I: resolvé el siguiente desafío:"
   ]
  },
  {
   "cell_type": "markdown",
   "id": "39711966",
   "metadata": {},
   "source": [
    "EJERCICIO 1: dado el archivo denominado [BBB_nuevo.csv](https://archivos.linti.unlp.edu.ar/index.php/s/q9b3rCrlhOS1yWU) que contiene  los accesos al recurso BigBlueButton que usamos para las clases virtuales de la materia, se desea generar una función que retorne los 5 usuarios que más vieron una grabación (Evento: \"Grabación vista\")."
   ]
  },
  {
   "cell_type": "code",
   "execution_count": 101,
   "id": "5021bb7c",
   "metadata": {},
   "outputs": [
    {
     "name": "stdout",
     "output_type": "stream",
     "text": [
      "[('Rapidash', 26), ('Arbok', 19), ('Furret', 14), ('Zubat', 12), ('Bellsprout', 11)]\n"
     ]
    }
   ],
   "source": [
    "#Solución\n",
    "import csv\n",
    "import os\n",
    "from collections import Counter\n",
    "\n",
    "def esGrabacionVista(linea):\n",
    "    \"\"\"funcion que retorna si el evento es 'Grabación lista' \"\"\"\n",
    "    \n",
    "    if linea[2] == \"Grabación vista\":\n",
    "        return True\n",
    "    else:\n",
    "        return False\n",
    "\n",
    "\n",
    "def cincoMasVistos(data):\n",
    "    \"\"\"función que retorna los 5 usuarios que más vieron una grabación (Evento: \"Grabación vista\")\"\"\"\n",
    "\n",
    "    \n",
    "    usuarios_rep = [x[1] for x in list(filter(esGrabacionVista, data))] \n",
    "    #usuarios_rep contiene una lista de los nombres(sin repetir) de quienes vieron la grabacion \n",
    "\n",
    "    return Counter(usuarios_rep).most_common(5)\n",
    "\n",
    "    \n",
    "ruta = os.path.dirname(os.path.realpath(\".\"))\n",
    "ruta_arch = os.path.join(ruta, \"Actividad 1\",\"BBB_nuevo.csv\")\n",
    "\n",
    "arch = open(ruta_arch, \"r\", encoding='UTF-8')\n",
    "csvreader = csv.reader(arch, delimiter=',')\n",
    "encabezado = next(csvreader)\n",
    "\n",
    "\n",
    "print(cincoMasVistos(csvreader))\n",
    "\n"
   ]
  },
  {
   "cell_type": "code",
   "execution_count": null,
   "id": "022be1af",
   "metadata": {},
   "outputs": [],
   "source": []
  },
  {
   "cell_type": "code",
   "execution_count": null,
   "id": "0e208e8c",
   "metadata": {},
   "outputs": [],
   "source": []
  },
  {
   "cell_type": "code",
   "execution_count": null,
   "id": "b38a2e43",
   "metadata": {},
   "outputs": [],
   "source": []
  }
 ],
 "metadata": {
  "kernelspec": {
   "display_name": "Python 3 (ipykernel)",
   "language": "python",
   "name": "python3"
  },
  "language_info": {
   "codemirror_mode": {
    "name": "ipython",
    "version": 3
   },
   "file_extension": ".py",
   "mimetype": "text/x-python",
   "name": "python",
   "nbconvert_exporter": "python",
   "pygments_lexer": "ipython3",
   "version": "3.10.4"
  }
 },
 "nbformat": 4,
 "nbformat_minor": 5
}
